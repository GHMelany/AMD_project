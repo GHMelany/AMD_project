{
  "cells": [
    {
      "cell_type": "markdown",
      "metadata": {
        "id": "view-in-github",
        "colab_type": "text"
      },
      "source": [
        "<a href=\"https://colab.research.google.com/github/GHMelany/AMD_project/blob/main/AMD%20.ipynb\" target=\"_parent\"><img src=\"https://colab.research.google.com/assets/colab-badge.svg\" alt=\"Open In Colab\"/></a>"
      ]
    },
    {
      "cell_type": "markdown",
      "id": "037c7a35-dc65-4afb-90a6-f9f4034be2ec",
      "metadata": {
        "id": "037c7a35-dc65-4afb-90a6-f9f4034be2ec"
      },
      "source": [
        "PROJECT: Finding similar items. Implement a detector of pairs of similar book reviews\n"
      ]
    },
    {
      "cell_type": "markdown",
      "id": "7d6215a9-9085-4765-a717-f0a986b7d93a",
      "metadata": {
        "id": "7d6215a9-9085-4765-a717-f0a986b7d93a"
      },
      "source": [
        "LIBRARIES"
      ]
    },
    {
      "cell_type": "code",
      "source": [
        "!pip install langid\n"
      ],
      "metadata": {
        "colab": {
          "base_uri": "https://localhost:8080/"
        },
        "id": "p3HwyqmtnhHY",
        "outputId": "6e704bd5-62ee-45a5-d131-31aeedf5a397"
      },
      "id": "p3HwyqmtnhHY",
      "execution_count": 1,
      "outputs": [
        {
          "output_type": "stream",
          "name": "stdout",
          "text": [
            "Requirement already satisfied: langid in /usr/local/lib/python3.12/dist-packages (1.1.6)\n",
            "Requirement already satisfied: numpy in /usr/local/lib/python3.12/dist-packages (from langid) (2.0.2)\n"
          ]
        }
      ]
    },
    {
      "cell_type": "code",
      "source": [
        "# Disinstalla pyspark attuale\n",
        "!pip uninstall -y pyspark\n",
        "\n",
        "# Installa PySpark stabile\n",
        "!pip install pyspark==3.4.1\n",
        "\n",
        "# Imposta JAVA_HOME (Java 11 va bene per 3.4.1)\n",
        "import os\n",
        "os.environ[\"JAVA_HOME\"] = \"/usr/lib/jvm/java-11-openjdk-amd64\"\n",
        "os.environ[\"PATH\"] = os.environ[\"JAVA_HOME\"] + \"/bin:\" + os.environ[\"PATH\"]\n",
        "\n",
        "# Avvia Spark\n",
        "from pyspark.sql import SparkSession\n",
        "spark = SparkSession.builder.appName(\"MyApp\").getOrCreate()\n",
        "print(\"Spark versione:\", spark.version)\n"
      ],
      "metadata": {
        "colab": {
          "base_uri": "https://localhost:8080/"
        },
        "id": "I9Ox_VtQRnoy",
        "outputId": "8eb2bd57-6b14-4492-98ba-14ba53d5dc88"
      },
      "id": "I9Ox_VtQRnoy",
      "execution_count": 2,
      "outputs": [
        {
          "output_type": "stream",
          "name": "stdout",
          "text": [
            "\u001b[33mWARNING: Skipping pyspark as it is not installed.\u001b[0m\u001b[33m\n",
            "\u001b[0mCollecting pyspark==3.4.1\n",
            "  Using cached pyspark-3.4.1-py2.py3-none-any.whl\n",
            "Requirement already satisfied: py4j==0.10.9.7 in /usr/local/lib/python3.12/dist-packages (from pyspark==3.4.1) (0.10.9.7)\n",
            "Installing collected packages: pyspark\n",
            "\u001b[31mERROR: pip's dependency resolver does not currently take into account all the packages that are installed. This behaviour is the source of the following dependency conflicts.\n",
            "dataproc-spark-connect 0.8.3 requires pyspark[connect]~=3.5.1, but you have pyspark 3.4.1 which is incompatible.\u001b[0m\u001b[31m\n",
            "\u001b[0mSuccessfully installed pyspark-3.4.1\n",
            "Spark versione: 3.4.1\n"
          ]
        }
      ]
    },
    {
      "cell_type": "code",
      "execution_count": 3,
      "id": "cb996b71-c88f-4982-86f9-85f6d6786890",
      "metadata": {
        "id": "cb996b71-c88f-4982-86f9-85f6d6786890"
      },
      "outputs": [],
      "source": [
        "import re, html, langid\n",
        "import os\n",
        "import zipfile\n",
        "from pyspark.sql import SparkSession, functions as F\n",
        "from pyspark.sql.types import StringType\n",
        "from pyspark.ml.feature import RegexTokenizer, StopWordsRemover, NGram, HashingTF, MinHashLSH\n",
        "from pyspark.ml import Pipeline\n",
        "from pyspark.sql.functions import udf, col\n",
        "from pyspark.sql.types import ArrayType, StringType\n",
        "from pyspark.sql.functions import explode\n",
        "import math\n",
        "from pyspark.ml.feature import HashingTF, MinHashLSH\n",
        "from pyspark.sql.functions import explode, col\n",
        "\n",
        "spark.conf.set(\"spark.sql.autoBroadcastJoinThreshold\", -1)\n",
        "\n"
      ]
    },
    {
      "cell_type": "code",
      "execution_count": 4,
      "id": "0deba4af-df2e-4efc-83cb-868cb23ec98c",
      "metadata": {
        "id": "0deba4af-df2e-4efc-83cb-868cb23ec98c",
        "outputId": "2f90c756-d067-4ae6-9b5c-c3a0821fd498",
        "colab": {
          "base_uri": "https://localhost:8080/"
        }
      },
      "outputs": [
        {
          "output_type": "stream",
          "name": "stdout",
          "text": [
            "Dataset URL: https://www.kaggle.com/datasets/mohamedbakhet/amazon-books-reviews\n",
            "License(s): CC0-1.0\n",
            "amazon-books-reviews.zip: Skipping, found more recently modified local copy (use --force to force download)\n"
          ]
        }
      ],
      "source": [
        "os.environ['KAGGLE_USERNAME'] = \"melanygomez\"\n",
        "os.environ['KAGGLE_KEY'] = \"38db1cce93622035560027022e9cafc\"\n",
        "\n",
        "!pip install -q kaggle\n",
        "\n",
        "from kaggle.api.kaggle_api_extended import KaggleApi\n",
        "api = KaggleApi()\n",
        "api.authenticate()\n",
        "\n",
        "!kaggle datasets download -d mohamedbakhet/amazon-books-reviews"
      ]
    },
    {
      "cell_type": "code",
      "source": [
        "zip_path = \"amazon-books-reviews.zip\"\n",
        "extract_dir = \"amazon_books_reviews\"\n",
        "os.makedirs(extract_dir, exist_ok=True)\n",
        "\n",
        "with zipfile.ZipFile(zip_path, \"r\") as z:\n",
        "    z.extractall(extract_dir)\n",
        "\n",
        "for root, dirs, files in os.walk(extract_dir):\n",
        "    for file in files:\n",
        "        print(os.path.join(root, file))\n",
        "\n",
        "folder = \"amazon_books_reviews\"\n",
        "csv_path = os.path.join(folder, \"Books_rating.csv\")\n",
        "\n"
      ],
      "metadata": {
        "colab": {
          "base_uri": "https://localhost:8080/"
        },
        "id": "PHDQidBymq6K",
        "outputId": "bb921d15-4ba7-4381-cec7-2a425daf376b"
      },
      "id": "PHDQidBymq6K",
      "execution_count": 5,
      "outputs": [
        {
          "output_type": "stream",
          "name": "stdout",
          "text": [
            "amazon_books_reviews/books_data.csv\n",
            "amazon_books_reviews/Books_rating.csv\n"
          ]
        }
      ]
    },
    {
      "cell_type": "code",
      "source": [
        "df = spark.read.csv(csv_path, header=True, inferSchema=True, quote='\"', escape='\"')\n",
        "df = df.select(\"Id\", F.col(\"review/score\").alias(\"score\"), F.col(\"review/text\").alias(\"text\")).dropna(subset=[\"text\"])"
      ],
      "metadata": {
        "id": "atTIojo5m3XL"
      },
      "id": "atTIojo5m3XL",
      "execution_count": 6,
      "outputs": []
    },
    {
      "cell_type": "code",
      "source": [
        "df = df.sample(fraction=0.05, seed=42)\n",
        "print(\"Initial sample:\", df.count())"
      ],
      "metadata": {
        "colab": {
          "base_uri": "https://localhost:8080/"
        },
        "id": "hA4fLLROV-d4",
        "outputId": "0ee1b6c9-0609-4eb3-c2ef-a2a13ba493b6"
      },
      "id": "hA4fLLROV-d4",
      "execution_count": 7,
      "outputs": [
        {
          "output_type": "stream",
          "name": "stdout",
          "text": [
            "Campione iniziale: 150324\n"
          ]
        }
      ]
    },
    {
      "cell_type": "code",
      "source": [
        "#HTML decoding + lowercase conversion\n",
        "decode_clean = udf(lambda txt: re.sub(r\"\\s+\", \" \", html.unescape(txt).lower()) if txt else \"\", StringType())\n",
        "df = df.withColumn(\"review_clean\", decode_clean(col(\"text\")))\n",
        "\n",
        "# remove special characters\n",
        "regex_clean = udf(lambda t: re.sub(r\"[^a-z0-9 ]+\", \" \", t) if t else \"\", StringType())\n",
        "df = df.withColumn(\"review_clean\", regex_clean(col(\"review_clean\")))\n"
      ],
      "metadata": {
        "id": "cli6rig0m6Fl"
      },
      "id": "cli6rig0m6Fl",
      "execution_count": 8,
      "outputs": []
    },
    {
      "cell_type": "code",
      "source": [
        "sentiment_udf = udf(lambda s: \"positive\" if s > 3 else \"negative\", StringType())\n",
        "df = df.withColumn(\"sentiment\", sentiment_udf(col(\"score\")))"
      ],
      "metadata": {
        "id": "4_B0MfWRm8oA"
      },
      "id": "4_B0MfWRm8oA",
      "execution_count": 9,
      "outputs": []
    },
    {
      "cell_type": "code",
      "source": [
        "for c in [\"tokens\", \"filtered_tokens\"]:\n",
        "    if c in df.columns:\n",
        "        df = df.drop(c)\n",
        "\n",
        "tokenizer = RegexTokenizer(inputCol=\"review_clean\", outputCol=\"tokens\", pattern=\"\\\\W+\")\n",
        "stop_remover = StopWordsRemover(inputCol=\"tokens\", outputCol=\"filtered_tokens\")\n",
        "pipeline = Pipeline(stages=[tokenizer, stop_remover])\n",
        "df = pipeline.fit(df).transform(df)\n"
      ],
      "metadata": {
        "id": "6pfsttxvnAU4"
      },
      "id": "6pfsttxvnAU4",
      "execution_count": 10,
      "outputs": []
    },
    {
      "cell_type": "code",
      "source": [
        "df = df.withColumn(\"token_count\", F.size(col(\"filtered_tokens\")))\n",
        "df = df.filter((col(\"token_count\") >= 5) & (col(\"token_count\") <= 200))\n",
        "print(\"reviews after length filter:\", df.count())"
      ],
      "metadata": {
        "id": "UeIWFZ7OnAX2",
        "colab": {
          "base_uri": "https://localhost:8080/"
        },
        "outputId": "f7162229-e083-415b-e487-3b544396d68e"
      },
      "id": "UeIWFZ7OnAX2",
      "execution_count": 11,
      "outputs": [
        {
          "output_type": "stream",
          "name": "stdout",
          "text": [
            "Recensioni dopo filtro lunghezza: 139612\n"
          ]
        }
      ]
    },
    {
      "cell_type": "code",
      "source": [
        "def make_shingles(words, k=3):\n",
        "    if not words or len(words) < k:\n",
        "        return []\n",
        "    return list({\" \".join(words[i:i+k]) for i in range(len(words)-k+1)})\n",
        "\n",
        "shingles_udf = udf(lambda w: make_shingles(w, 3), ArrayType(StringType()))\n",
        "df = df.withColumn(\"shingles\", shingles_udf(col(\"filtered_tokens\"))).filter(F.size(col(\"shingles\")) > 0)"
      ],
      "metadata": {
        "id": "tCQ5nvIjnAbY"
      },
      "id": "tCQ5nvIjnAbY",
      "execution_count": 12,
      "outputs": []
    },
    {
      "cell_type": "code",
      "source": [
        "def find_similar(input_df, threshold=0.5, num_hash=20):\n",
        "    unique_terms = input_df.select(explode(\"shingles\")).distinct().count()\n",
        "    features_dim = 2 ** math.ceil(math.log2(unique_terms))\n",
        "\n",
        "    tf = HashingTF(inputCol=\"shingles\", outputCol=\"features\", numFeatures=features_dim, binary=True)\n",
        "    vectorized = tf.transform(input_df)\n",
        "\n",
        "    lsh = MinHashLSH(inputCol=\"features\", outputCol=\"hashes\", numHashTables=num_hash)\n",
        "    model = lsh.fit(vectorized)\n",
        "\n",
        "    candidates = model.approxSimilarityJoin(vectorized, vectorized, threshold=threshold, distCol=\"jaccard_dist\")\n",
        "    pairs = (candidates\n",
        "             .filter(col(\"datasetA.Id\") > col(\"datasetB.Id\"))\n",
        "             .withColumn(\"similarity\", 1 - col(\"jaccard_dist\"))\n",
        "             .select(\"similarity\",\n",
        "                     col(\"datasetA.Id\").alias(\"docA\"),\n",
        "                     col(\"datasetB.Id\").alias(\"docB\"),\n",
        "                     col(\"datasetA.review_clean\").alias(\"reviewA\"),\n",
        "                     col(\"datasetB.review_clean\").alias(\"reviewB\")))\n",
        "    return pairs"
      ],
      "metadata": {
        "id": "P_UrAQsjnJYF"
      },
      "id": "P_UrAQsjnJYF",
      "execution_count": 13,
      "outputs": []
    },
    {
      "cell_type": "code",
      "source": [
        "#filtered by sentiment\n",
        "pos_reviews = df.filter(col(\"sentiment\") == \"positive\")\n",
        "neg_reviews = df.filter(col(\"sentiment\") == \"negative\")\n",
        "\n",
        "# similar pairs MinHash LSH\n",
        "pairs_pos = find_similar(pos_reviews, threshold=0.5)\n",
        "pairs_neg = find_similar(neg_reviews, threshold=0.5)\n",
        "\n",
        "# filter (0.8 - 0.95)\n",
        "mod_pos = pairs_pos.filter((col(\"similarity\") >= 0.8) & (col(\"similarity\") <= 0.95))\n",
        "mod_neg = pairs_neg.filter((col(\"similarity\") >= 0.8) & (col(\"similarity\") <= 0.95))\n",
        "\n",
        "# Step 4: Print summary counts\n",
        "print(f\" Total similar positive pairs: {pairs_pos.count()}\")\n",
        "print(f\" Total similar negative pairs: {pairs_neg.count()}\")\n",
        "print(f\" similar positive pairs (0.8 - 0.95): {mod_pos.count()}\")\n",
        "print(f\" similar negative pairs (0.8 - 0.95): {mod_neg.count()}\")\n",
        "\n",
        "# Step 5: Show examples of top similar pairs\n",
        "print(\"\\n 5 most similar positive pairs:\")\n",
        "pairs_pos.orderBy(col(\"similarity\").desc()).show(5, truncate=False)\n",
        "\n",
        "print(\"\\n 5 most similar negative pairs:\")\n",
        "pairs_neg.orderBy(col(\"similarity\").desc()).show(5, truncate=False)\n",
        "\n",
        "print(\"\\n 5 moderately similar positive pairs:\")\n",
        "mod_pos.orderBy(col(\"similarity\").desc()).show(5, truncate=False)\n",
        "\n",
        "print(\"\\n 5 moderately similar negative pairs:\")\n",
        "mod_neg.orderBy(col(\"similarity\").desc()).show(5, truncate=False)\n",
        "mod_neg.orderBy(col(\"similarity\").desc()).show(5, truncate=False)"
      ],
      "metadata": {
        "colab": {
          "base_uri": "https://localhost:8080/"
        },
        "id": "uCEpdDg63w5M",
        "outputId": "470d5c0c-b341-47b4-c26d-768e372a5614"
      },
      "id": "uCEpdDg63w5M",
      "execution_count": 14,
      "outputs": [
        {
          "output_type": "stream",
          "name": "stdout",
          "text": [
            "Coppie simili positive: 6291\n",
            "Coppie simili negative: 1366\n",
            "\n",
            "📋 TOP 5 coppie positive simili:\n",
            "+----------+----------+----------+----------------------------------------------------------------------------------------------------------------------------------------------------------------------------------------------------------------------------------------------------------------------------------------------------------------------------------------------------------------------------------------------------------------------------------------------------------------------------------------------------------------------------------------------------------------------------------------------------------------------------------------------------------------------------------------------------------------------------------------------------------------------------------------------------------------------------------------------------------------------------------------------------------------------------------------------------------------------------------------------------------------------------------------------------------------------------------------------------------------------------------------------------------------------------------------------------------------------------------------------------------------------------------------------------------------------------------------------------------------------------------------------------+----------------------------------------------------------------------------------------------------------------------------------------------------------------------------------------------------------------------------------------------------------------------------------------------------------------------------------------------------------------------------------------------------------------------------------------------------------------------------------------------------------------------------------------------------------------------------------------------------------------------------------------------------------------------------------------------------------------------------------------------------------------------------------------------------------------------------------------------------------------------------------------------------------------------------------------------------------------------------------------------------------------------------------------------------------------------------------------------------------------------------------------------------------------------------------------------------------------------------------------------------------------------------------------------------------------------------------------------------------------------------------------------------+\n",
            "|similarity|docA      |docB      |reviewA                                                                                                                                                                                                                                                                                                                                                                                                                                                                                                                                                                                                                                                                                                                                                                                                                                                                                                                                                                                                                                                                                                                                                                                                                                                                                                                                                                                             |reviewB                                                                                                                                                                                                                                                                                                                                                                                                                                                                                                                                                                                                                                                                                                                                                                                                                                                                                                                                                                                                                                                                                                                                                                                                                                                                                                                                                                                             |\n",
            "+----------+----------+----------+----------------------------------------------------------------------------------------------------------------------------------------------------------------------------------------------------------------------------------------------------------------------------------------------------------------------------------------------------------------------------------------------------------------------------------------------------------------------------------------------------------------------------------------------------------------------------------------------------------------------------------------------------------------------------------------------------------------------------------------------------------------------------------------------------------------------------------------------------------------------------------------------------------------------------------------------------------------------------------------------------------------------------------------------------------------------------------------------------------------------------------------------------------------------------------------------------------------------------------------------------------------------------------------------------------------------------------------------------------------------------------------------------+----------------------------------------------------------------------------------------------------------------------------------------------------------------------------------------------------------------------------------------------------------------------------------------------------------------------------------------------------------------------------------------------------------------------------------------------------------------------------------------------------------------------------------------------------------------------------------------------------------------------------------------------------------------------------------------------------------------------------------------------------------------------------------------------------------------------------------------------------------------------------------------------------------------------------------------------------------------------------------------------------------------------------------------------------------------------------------------------------------------------------------------------------------------------------------------------------------------------------------------------------------------------------------------------------------------------------------------------------------------------------------------------------+\n",
            "|1.0       |1853268550|0786118490|persuasion is an interrupted love story  not as piquant as austen s other novels  but stimulating and provocative in more subtle ways  in a way  it is a study of how we are influenced or persuaded to make choices in our lives  both from within and without  and it is also a study of character  anne is by far the most likable character  and it is her innately good character that is contrasted with all the others  but for me  anne is far too restrained to be wholly likable  in one scene  anne translates an italian libretto  which she does with great skill  but she refuses to go beyond mere translation and discuss the music due to its romantic nature  which would be inappropriate  the overriding concern for all the characters is always to be socially correct  persuasion lacks any really spritied characters  but then  why should all stories have spirited characters  there s nothing wrong with a story about more ordinary people  and the way austen has these  ordinary  people talking  it is pure literary pleasure to read and savor the english language expressed so eloquently                                                                                                                                                                                                                                                                        |persuasion is an interrupted love story  not as piquant as austen s other novels  but stimulating and provocative in more subtle ways  in a way  it is a study of how we are influenced or persuaded to make choices in our lives  both from within and without  and it is also a study of character  anne is by far the most likable character  and it is her innately good character that is contrasted with all the others  but for me  anne is far too restrained to be wholly likable  in one scene  anne translates an italian libretto  which she does with great skill  but she refuses to go beyond mere translation and discuss the music due to its romantic nature  which would be inappropriate  the overriding concern for all the characters is always to be socially correct  persuasion lacks any really spritied characters  but then  why should all stories have spirited characters  there s nothing wrong with a story about more ordinary people  and the way austen has these  ordinary  people talking  it is pure literary pleasure to read and savor the english language expressed so eloquently                                                                                                                                                                                                                                                                        |\n",
            "|1.0       |B000FCK73I|8188280194|first off  for the audience looking to read this book after viewing the character from the movie lxg  know that the characteristics of dorian are no as they were in the movie  dorian does not die when he looks at his portrait  in fact his observation of the changes in his picture is one of the main elements of the story  basil  an artist that is obsessed with the beauty of one man  dorian  paints a portrait so beautiful that the subject is pained by the fact that the portrait s beauty will outlast that of his mortal body  and he wishes that this formula could be reversed  with the portrait aging in his place  he gets his wish  but at what price  dorian  now free from the bounds of mortality  is no longer afraid to sin  since there he thinks that nothing can happen to him  but his behavior was not all due to his immortality  it was also due to the fact that the negative influence from lord henry corrupted his pure soul  the fact that he was able to keep his beauty but not able to keep his soul shows that judgment based on appearance is not only wrong  but inaccurate  this book is recommended  but not to the highest extent  the story picks up quickly  as it must with such a limited amount of pages  one of the only flaws in this book is chapter 11  the long  unwanted pause  a classic nonetheless  one that should no be overlooked |first off  for the audience looking to read this book after viewing the character from the movie lxg  know that the characteristics of dorian are no as they were in the movie  dorian does not die when he looks at his portrait  in fact his observation of the changes in his picture is one of the main elements of the story  basil  an artist that is obsessed with the beauty of one man  dorian  paints a portrait so beautiful that the subject is pained by the fact that the portrait s beauty will outlast that of his mortal body  and he wishes that this formula could be reversed  with the portrait aging in his place  he gets his wish  but at what price  dorian  now free from the bounds of mortality  is no longer afraid to sin  since there he thinks that nothing can happen to him  but his behavior was not all due to his immortality  it was also due to the fact that the negative influence from lord henry corrupted his pure soul  the fact that he was able to keep his beauty but not able to keep his soul shows that judgment based on appearance is not only wrong  but inaccurate  this book is recommended  but not to the highest extent  the story picks up quickly  as it must with such a limited amount of pages  one of the only flaws in this book is chapter 11  the long  unwanted pause  a classic nonetheless  one that should no be overlooked |\n",
            "|1.0       |B000KOAWKE|B0007C4L6K|excellent storytelling   with a mixture ofopinions  philosophy and history that is never boring  blended with endless surprises                                                                                                                                                                                                                                                                                                                                                                                                                                                                                                                                                                                                                                                                                                                                                                                                                                                                                                                                                                                                                                                                                                                                                                                                                                                                     |excellent storytelling   with a mixture ofopinions  philosophy and history that is never boring  blended with endless surprises                                                                                                                                                                                                                                                                                                                                                                                                                                                                                                                                                                                                                                                                                                                                                                                                                                                                                                                                                                                                                                                                                                                                                                                                                                                                     |\n",
            "|1.0       |B0007J79FI|B0007F4RFW|heritage s 1963 edition of melville s typee   a sand colored slipcase contains the hardcover book  bound in textured cloth with a three color design  24 covarrubias color illustrations  introduction by raymond weaver  melville s preface  409 pp                                                                                                                                                                                                                                                                                                                                                                                                                                                                                                                                                                                                                                                                                                                                                                                                                                                                                                                                                                                                                                                                                                                                                |heritage s 1963 edition of melville s typee   a sand colored slipcase contains the hardcover book  bound in textured cloth with a three color design  24 covarrubias color illustrations  introduction by raymond weaver  melville s preface  409 pp                                                                                                                                                                                                                                                                                                                                                                                                                                                                                                                                                                                                                                                                                                                                                                                                                                                                                                                                                                                                                                                                                                                                                |\n",
            "|1.0       |0823029743|0823029719|not a beginner book  however  beginner kids are still interested in book  mostly used by intermediate and advanced kids  they love the books action  color studies  and characters                                                                                                                                                                                                                                                                                                                                                                                                                                                                                                                                                                                                                                                                                                                                                                                                                                                                                                                                                                                                                                                                                                                                                                                                                  |not a beginner book  however  beginner kids are still interested in book  mostly used by intermediate and advanced kids  they love the books action  color studies  and characters                                                                                                                                                                                                                                                                                                                                                                                                                                                                                                                                                                                                                                                                                                                                                                                                                                                                                                                                                                                                                                                                                                                                                                                                                  |\n",
            "+----------+----------+----------+----------------------------------------------------------------------------------------------------------------------------------------------------------------------------------------------------------------------------------------------------------------------------------------------------------------------------------------------------------------------------------------------------------------------------------------------------------------------------------------------------------------------------------------------------------------------------------------------------------------------------------------------------------------------------------------------------------------------------------------------------------------------------------------------------------------------------------------------------------------------------------------------------------------------------------------------------------------------------------------------------------------------------------------------------------------------------------------------------------------------------------------------------------------------------------------------------------------------------------------------------------------------------------------------------------------------------------------------------------------------------------------------------+----------------------------------------------------------------------------------------------------------------------------------------------------------------------------------------------------------------------------------------------------------------------------------------------------------------------------------------------------------------------------------------------------------------------------------------------------------------------------------------------------------------------------------------------------------------------------------------------------------------------------------------------------------------------------------------------------------------------------------------------------------------------------------------------------------------------------------------------------------------------------------------------------------------------------------------------------------------------------------------------------------------------------------------------------------------------------------------------------------------------------------------------------------------------------------------------------------------------------------------------------------------------------------------------------------------------------------------------------------------------------------------------------+\n",
            "only showing top 5 rows\n",
            "\n",
            "\n",
            "📋 TOP 5 coppie negative simili:\n",
            "+----------+----------+----------+---------------------------------------------------------------------------------------------------------------------------------------------------------------------------------------------------------------------------------------------------------------------------------------------------------------------------------------------------------------------------------------------------------------------------------------------------------------------------------------------------------------------------------------------------------------------------------------------------------------------------------------------------------------------------------------------------------------------------------------------------------------------------------------------------------------------------------------------------------------------------------------------------------------------------------------------------------------------------------------------------------------------------------------------------------------------------------------------------------------------------------------------------------------------------------------------------------------+---------------------------------------------------------------------------------------------------------------------------------------------------------------------------------------------------------------------------------------------------------------------------------------------------------------------------------------------------------------------------------------------------------------------------------------------------------------------------------------------------------------------------------------------------------------------------------------------------------------------------------------------------------------------------------------------------------------------------------------------------------------------------------------------------------------------------------------------------------------------------------------------------------------------------------------------------------------------------------------------------------------------------------------------------------------------------------------------------------------------------------------------------------------------------------------------------------------+\n",
            "|similarity|docA      |docB      |reviewA                                                                                                                                                                                                                                                                                                                                                                                                                                                                                                                                                                                                                                                                                                                                                                                                                                                                                                                                                                                                                                                                                                                                                                                                        |reviewB                                                                                                                                                                                                                                                                                                                                                                                                                                                                                                                                                                                                                                                                                                                                                                                                                                                                                                                                                                                                                                                                                                                                                                                                        |\n",
            "+----------+----------+----------+---------------------------------------------------------------------------------------------------------------------------------------------------------------------------------------------------------------------------------------------------------------------------------------------------------------------------------------------------------------------------------------------------------------------------------------------------------------------------------------------------------------------------------------------------------------------------------------------------------------------------------------------------------------------------------------------------------------------------------------------------------------------------------------------------------------------------------------------------------------------------------------------------------------------------------------------------------------------------------------------------------------------------------------------------------------------------------------------------------------------------------------------------------------------------------------------------------------+---------------------------------------------------------------------------------------------------------------------------------------------------------------------------------------------------------------------------------------------------------------------------------------------------------------------------------------------------------------------------------------------------------------------------------------------------------------------------------------------------------------------------------------------------------------------------------------------------------------------------------------------------------------------------------------------------------------------------------------------------------------------------------------------------------------------------------------------------------------------------------------------------------------------------------------------------------------------------------------------------------------------------------------------------------------------------------------------------------------------------------------------------------------------------------------------------------------+\n",
            "|1.0       |B000I38T20|0394700074|merchant ivory made a good film out of a mediocre novel  as usual with forster  there are no characters i can really identify with or like too well  at least in  a passage to india  the portrayal of the vagueries of life in india was masterful  here it s just a competent comment on class  and has anyone noticed  the final sentence is lousy                                                                                                                                                                                                                                                                                                                                                                                                                                                                                                                                                                                                                                                                                                                                                                                                                                                          |merchant ivory made a good film out of a mediocre novel  as usual with forster  there are no characters i can really identify with or like too well  at least in  a passage to india  the portrayal of the vagueries of life in india was masterful  here it s just a competent comment on class  and has anyone noticed  the final sentence is lousy                                                                                                                                                                                                                                                                                                                                                                                                                                                                                                                                                                                                                                                                                                                                                                                                                                                          |\n",
            "|1.0       |0910055599|0910055580|a major portion of this volume is  sketches and verses    16 sketches pair with a verse and a final poem  these sketches are primarily of childhood as remembered by an adult  the author has an excellent sense of detail  however  the sketches show the sensibility of a short story author more than of a poet  the verses have only a loose relationship to the sketch they accompany  unfortunately most of them are mediocre e g   my bits of grief hide themselves   in the depths of my soul    they are so numerous  so small    they hardly bother me  here and there one finds a delight  the rain prayed  its prayer of dawn    shelling   the tiny beads   from the white rosary    and i gathered them up   in my hands    and also prayer   with the rain   my prayer of dawn  but even these enjoyable gems are at best semi precious stones this is worth reading to improve your spanish as it is reasonably easy reading  it is worth reading if you are interested in the generation of 1927  it s worth reading if you are interested in poetry written by spanish females  otherwise  it s a matter of taste  it is clear that the translator likes the poetry more than i  you may too |a major portion of this volume is  sketches and verses    16 sketches pair with a verse and a final poem  these sketches are primarily of childhood as remembered by an adult  the author has an excellent sense of detail  however  the sketches show the sensibility of a short story author more than of a poet  the verses have only a loose relationship to the sketch they accompany  unfortunately most of them are mediocre e g   my bits of grief hide themselves   in the depths of my soul    they are so numerous  so small    they hardly bother me  here and there one finds a delight  the rain prayed  its prayer of dawn    shelling   the tiny beads   from the white rosary    and i gathered them up   in my hands    and also prayer   with the rain   my prayer of dawn  but even these enjoyable gems are at best semi precious stones this is worth reading to improve your spanish as it is reasonably easy reading  it is worth reading if you are interested in the generation of 1927  it s worth reading if you are interested in poetry written by spanish females  otherwise  it s a matter of taste  it is clear that the translator likes the poetry more than i  you may too |\n",
            "|1.0       |B0006DG9OM|0140439544|i thought the story line sounded interesting so i bought it twice  trying to get a version of the book that wasnt so diffucult to read  its ok off and on  half the time i dont know what the author is referring to cause it was written so long ago that the author uses that language and it just got in my way of the story  which is why i bought it again thinking the 2nd book looked easier to read but it wasnt sadly i will be reduced to trying to find the movie to find out what happens and it bothers me because i hate to not finish a book                                                                                                                                                                                                                                                                                                                                                                                                                                                                                                                                                                                                                                                    |i thought the story line sounded interesting so i bought it twice  trying to get a version of the book that wasnt so diffucult to read  its ok off and on  half the time i dont know what the author is referring to cause it was written so long ago that the author uses that language and it just got in my way of the story  which is why i bought it again thinking the 2nd book looked easier to read but it wasnt sadly i will be reduced to trying to find the movie to find out what happens and it bothers me because i hate to not finish a book                                                                                                                                                                                                                                                                                                                                                                                                                                                                                                                                                                                                                                                    |\n",
            "|1.0       |B000GZMTZI|B000COESO8|i ordered the penguin classics version of this book  and the seller shipped me the signet classics version                                                                                                                                                                                                                                                                                                                                                                                                                                                                                                                                                                                                                                                                                                                                                                                                                                                                                                                                                                                                                                                                                                     |i ordered the penguin classics version of this book  and the seller shipped me the signet classics version                                                                                                                                                                                                                                                                                                                                                                                                                                                                                                                                                                                                                                                                                                                                                                                                                                                                                                                                                                                                                                                                                                     |\n",
            "|1.0       |0786261080|0340283955|i hate it because it was to cheesy  i think it is bad  i would not recommended this to anyone                                                                                                                                                                                                                                                                                                                                                                                                                                                                                                                                                                                                                                                                                                                                                                                                                                                                                                                                                                                                                                                                                                                  |i hate it because it was to cheesy  i think it is bad  i would not recommended this to anyone                                                                                                                                                                                                                                                                                                                                                                                                                                                                                                                                                                                                                                                                                                                                                                                                                                                                                                                                                                                                                                                                                                                  |\n",
            "+----------+----------+----------+---------------------------------------------------------------------------------------------------------------------------------------------------------------------------------------------------------------------------------------------------------------------------------------------------------------------------------------------------------------------------------------------------------------------------------------------------------------------------------------------------------------------------------------------------------------------------------------------------------------------------------------------------------------------------------------------------------------------------------------------------------------------------------------------------------------------------------------------------------------------------------------------------------------------------------------------------------------------------------------------------------------------------------------------------------------------------------------------------------------------------------------------------------------------------------------------------------------+---------------------------------------------------------------------------------------------------------------------------------------------------------------------------------------------------------------------------------------------------------------------------------------------------------------------------------------------------------------------------------------------------------------------------------------------------------------------------------------------------------------------------------------------------------------------------------------------------------------------------------------------------------------------------------------------------------------------------------------------------------------------------------------------------------------------------------------------------------------------------------------------------------------------------------------------------------------------------------------------------------------------------------------------------------------------------------------------------------------------------------------------------------------------------------------------------------------+\n",
            "only showing top 5 rows\n",
            "\n"
          ]
        }
      ]
    }
  ],
  "metadata": {
    "kernelspec": {
      "display_name": "Python 3 (ipykernel)",
      "language": "python",
      "name": "python3"
    },
    "language_info": {
      "codemirror_mode": {
        "name": "ipython",
        "version": 3
      },
      "file_extension": ".py",
      "mimetype": "text/x-python",
      "name": "python",
      "nbconvert_exporter": "python",
      "pygments_lexer": "ipython3",
      "version": "3.9.0"
    },
    "colab": {
      "provenance": [],
      "include_colab_link": true
    }
  },
  "nbformat": 4,
  "nbformat_minor": 5
}