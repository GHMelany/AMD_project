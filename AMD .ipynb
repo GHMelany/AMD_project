{
  "cells": [
    {
      "cell_type": "markdown",
      "metadata": {
        "id": "view-in-github",
        "colab_type": "text"
      },
      "source": [
        "<a href=\"https://colab.research.google.com/github/GHMelany/AMD_project/blob/main/AMD%20.ipynb\" target=\"_parent\"><img src=\"https://colab.research.google.com/assets/colab-badge.svg\" alt=\"Open In Colab\"/></a>"
      ]
    },
    {
      "cell_type": "markdown",
      "id": "037c7a35-dc65-4afb-90a6-f9f4034be2ec",
      "metadata": {
        "id": "037c7a35-dc65-4afb-90a6-f9f4034be2ec"
      },
      "source": [
        "PROJECT: Finding similar items. Implement a detector of pairs of similar book reviews\n"
      ]
    },
    {
      "cell_type": "markdown",
      "id": "7d6215a9-9085-4765-a717-f0a986b7d93a",
      "metadata": {
        "id": "7d6215a9-9085-4765-a717-f0a986b7d93a"
      },
      "source": [
        "LIBRARIES"
      ]
    },
    {
      "cell_type": "code",
      "source": [
        "!pip install langid\n"
      ],
      "metadata": {
        "colab": {
          "base_uri": "https://localhost:8080/"
        },
        "id": "p3HwyqmtnhHY",
        "outputId": "c77c7729-c4bf-444a-c828-ba8eec0627be"
      },
      "id": "p3HwyqmtnhHY",
      "execution_count": 1,
      "outputs": [
        {
          "output_type": "stream",
          "name": "stdout",
          "text": [
            "Requirement already satisfied: langid in /usr/local/lib/python3.12/dist-packages (1.1.6)\n",
            "Requirement already satisfied: numpy in /usr/local/lib/python3.12/dist-packages (from langid) (2.0.2)\n"
          ]
        }
      ]
    },
    {
      "cell_type": "code",
      "source": [
        "# Uninstall current version of PySpark\n",
        "!pip uninstall -y pyspark\n",
        "\n",
        "# install stable version of PySpark\n",
        "!pip install pyspark==3.4.1\n",
        "\n",
        "# set JAVA_HOME (Java 11)\n",
        "import os\n",
        "os.environ[\"JAVA_HOME\"] = \"/usr/lib/jvm/java-11-openjdk-amd64\"\n",
        "os.environ[\"PATH\"] = os.environ[\"JAVA_HOME\"] + \"/bin:\" + os.environ[\"PATH\"]\n",
        "\n",
        "# start Spark\n",
        "from pyspark.sql import SparkSession\n",
        "spark = SparkSession.builder.appName(\"MyApp\").getOrCreate()\n",
        "print(\"Spark versione:\", spark.version)\n"
      ],
      "metadata": {
        "colab": {
          "base_uri": "https://localhost:8080/"
        },
        "id": "I9Ox_VtQRnoy",
        "outputId": "1c1ab040-45e5-445b-d077-e0c5f2db4009"
      },
      "id": "I9Ox_VtQRnoy",
      "execution_count": 2,
      "outputs": [
        {
          "output_type": "stream",
          "name": "stdout",
          "text": [
            "Found existing installation: pyspark 3.4.1\n",
            "Uninstalling pyspark-3.4.1:\n",
            "  Successfully uninstalled pyspark-3.4.1\n",
            "Collecting pyspark==3.4.1\n",
            "  Using cached pyspark-3.4.1-py2.py3-none-any.whl\n",
            "Requirement already satisfied: py4j==0.10.9.7 in /usr/local/lib/python3.12/dist-packages (from pyspark==3.4.1) (0.10.9.7)\n",
            "Installing collected packages: pyspark\n",
            "\u001b[31mERROR: pip's dependency resolver does not currently take into account all the packages that are installed. This behaviour is the source of the following dependency conflicts.\n",
            "dataproc-spark-connect 0.8.3 requires pyspark[connect]~=3.5.1, but you have pyspark 3.4.1 which is incompatible.\u001b[0m\u001b[31m\n",
            "\u001b[0mSuccessfully installed pyspark-3.4.1\n",
            "Spark versione: 3.4.1\n"
          ]
        }
      ]
    },
    {
      "cell_type": "code",
      "execution_count": 3,
      "id": "cb996b71-c88f-4982-86f9-85f6d6786890",
      "metadata": {
        "id": "cb996b71-c88f-4982-86f9-85f6d6786890"
      },
      "outputs": [],
      "source": [
        "import re, html, langid\n",
        "import os\n",
        "import zipfile\n",
        "from pyspark.sql import SparkSession, functions as F\n",
        "from pyspark.sql.types import StringType\n",
        "from pyspark.ml.feature import RegexTokenizer, StopWordsRemover, NGram, HashingTF, MinHashLSH\n",
        "from pyspark.ml import Pipeline\n",
        "from pyspark.sql.functions import udf, col\n",
        "from pyspark.sql.types import ArrayType, StringType\n",
        "from pyspark.sql.functions import explode\n",
        "import math\n",
        "from pyspark.ml.feature import HashingTF, MinHashLSH\n",
        "from pyspark.sql.functions import explode, col\n",
        "\n",
        "spark.conf.set(\"spark.sql.autoBroadcastJoinThreshold\", -1)\n",
        "\n"
      ]
    },
    {
      "cell_type": "code",
      "execution_count": 4,
      "id": "0deba4af-df2e-4efc-83cb-868cb23ec98c",
      "metadata": {
        "id": "0deba4af-df2e-4efc-83cb-868cb23ec98c",
        "outputId": "a7ab18d6-277c-4de9-f131-7be2c8f43e30",
        "colab": {
          "base_uri": "https://localhost:8080/"
        }
      },
      "outputs": [
        {
          "output_type": "stream",
          "name": "stdout",
          "text": [
            "Dataset URL: https://www.kaggle.com/datasets/mohamedbakhet/amazon-books-reviews\n",
            "License(s): CC0-1.0\n",
            "amazon-books-reviews.zip: Skipping, found more recently modified local copy (use --force to force download)\n"
          ]
        }
      ],
      "source": [
        "os.environ['KAGGLE_USERNAME'] = \"xxxxxxxxx\"\n",
        "os.environ['KAGGLE_KEY'] = \"xxxxxxxxxxxxxxxxxx\"\n",
        "\n",
        "!pip install -q kaggle\n",
        "\n",
        "from kaggle.api.kaggle_api_extended import KaggleApi\n",
        "api = KaggleApi()\n",
        "api.authenticate()\n",
        "\n",
        "!kaggle datasets download -d mohamedbakhet/amazon-books-reviews"
      ]
    },
    {
      "cell_type": "code",
      "source": [
        "zip_path = \"amazon-books-reviews.zip\"\n",
        "extract_dir = \"amazon_books_reviews\"\n",
        "os.makedirs(extract_dir, exist_ok=True)\n",
        "\n",
        "with zipfile.ZipFile(zip_path, \"r\") as z:\n",
        "    z.extractall(extract_dir)\n",
        "\n",
        "for root, dirs, files in os.walk(extract_dir):\n",
        "    for file in files:\n",
        "        print(os.path.join(root, file))\n",
        "\n",
        "folder = \"amazon_books_reviews\"\n",
        "csv_path = os.path.join(folder, \"Books_rating.csv\")\n",
        "\n"
      ],
      "metadata": {
        "colab": {
          "base_uri": "https://localhost:8080/"
        },
        "id": "PHDQidBymq6K",
        "outputId": "d7ba42ee-6caa-4ac4-903f-22e3f8b0a71e"
      },
      "id": "PHDQidBymq6K",
      "execution_count": 5,
      "outputs": [
        {
          "output_type": "stream",
          "name": "stdout",
          "text": [
            "amazon_books_reviews/books_data.csv\n",
            "amazon_books_reviews/Books_rating.csv\n"
          ]
        }
      ]
    },
    {
      "cell_type": "code",
      "source": [
        "df = spark.read.csv(csv_path, header=True, inferSchema=True, quote='\"', escape='\"')\n",
        "df = df.select(\"Id\", F.col(\"review/score\").alias(\"score\"), F.col(\"review/text\").alias(\"text\")).dropna(subset=[\"text\"])"
      ],
      "metadata": {
        "id": "atTIojo5m3XL"
      },
      "id": "atTIojo5m3XL",
      "execution_count": 6,
      "outputs": []
    },
    {
      "cell_type": "code",
      "source": [
        "df = df.sample(fraction=0.05, seed=42)\n",
        "print(\"Initial sample:\", df.count())"
      ],
      "metadata": {
        "colab": {
          "base_uri": "https://localhost:8080/"
        },
        "id": "hA4fLLROV-d4",
        "outputId": "322107e8-bbf6-4d5a-bf22-d48e8aeb5239"
      },
      "id": "hA4fLLROV-d4",
      "execution_count": 7,
      "outputs": [
        {
          "output_type": "stream",
          "name": "stdout",
          "text": [
            "Initial sample: 150324\n"
          ]
        }
      ]
    },
    {
      "cell_type": "code",
      "source": [
        "#HTML decoding + lowercase conversion\n",
        "decode_clean = udf(lambda txt: re.sub(r\"\\s+\", \" \", html.unescape(txt).lower()) if txt else \"\", StringType())\n",
        "df = df.withColumn(\"review_clean\", decode_clean(col(\"text\")))\n",
        "\n",
        "# remove special characters\n",
        "regex_clean = udf(lambda t: re.sub(r\"[^a-z0-9 ]+\", \" \", t) if t else \"\", StringType())\n",
        "df = df.withColumn(\"review_clean\", regex_clean(col(\"review_clean\")))\n"
      ],
      "metadata": {
        "id": "cli6rig0m6Fl"
      },
      "id": "cli6rig0m6Fl",
      "execution_count": 8,
      "outputs": []
    },
    {
      "cell_type": "code",
      "source": [
        "sentiment_udf = udf(lambda s: \"positive\" if s > 3 else \"negative\", StringType())\n",
        "df = df.withColumn(\"sentiment\", sentiment_udf(col(\"score\")))"
      ],
      "metadata": {
        "id": "4_B0MfWRm8oA"
      },
      "id": "4_B0MfWRm8oA",
      "execution_count": 9,
      "outputs": []
    },
    {
      "cell_type": "code",
      "source": [
        "for c in [\"tokens\", \"filtered_tokens\"]:\n",
        "    if c in df.columns:\n",
        "        df = df.drop(c)\n",
        "\n",
        "tokenizer = RegexTokenizer(inputCol=\"review_clean\", outputCol=\"tokens\", pattern=\"\\\\W+\")\n",
        "stop_remover = StopWordsRemover(inputCol=\"tokens\", outputCol=\"filtered_tokens\")\n",
        "pipeline = Pipeline(stages=[tokenizer, stop_remover])\n",
        "df = pipeline.fit(df).transform(df)\n"
      ],
      "metadata": {
        "id": "6pfsttxvnAU4"
      },
      "id": "6pfsttxvnAU4",
      "execution_count": 10,
      "outputs": []
    },
    {
      "cell_type": "code",
      "source": [
        "df = df.withColumn(\"token_count\", F.size(col(\"filtered_tokens\")))\n",
        "df = df.filter((col(\"token_count\") >= 5) & (col(\"token_count\") <= 200))\n",
        "print(\"reviews after length filter:\", df.count())"
      ],
      "metadata": {
        "id": "UeIWFZ7OnAX2",
        "colab": {
          "base_uri": "https://localhost:8080/"
        },
        "outputId": "680e4672-3888-484e-9071-596e8913146f"
      },
      "id": "UeIWFZ7OnAX2",
      "execution_count": 11,
      "outputs": [
        {
          "output_type": "stream",
          "name": "stdout",
          "text": [
            "reviews after length filter: 139612\n"
          ]
        }
      ]
    },
    {
      "cell_type": "code",
      "source": [
        "def make_shingles(words, k=3):\n",
        "    if not words or len(words) < k:\n",
        "        return []\n",
        "    return list({\" \".join(words[i:i+k]) for i in range(len(words)-k+1)})\n",
        "\n",
        "shingles_udf = udf(lambda w: make_shingles(w, 3), ArrayType(StringType()))\n",
        "df = df.withColumn(\"shingles\", shingles_udf(col(\"filtered_tokens\"))).filter(F.size(col(\"shingles\")) > 0)"
      ],
      "metadata": {
        "id": "tCQ5nvIjnAbY"
      },
      "id": "tCQ5nvIjnAbY",
      "execution_count": 12,
      "outputs": []
    },
    {
      "cell_type": "code",
      "source": [
        "def find_similar(input_df, threshold=0.5, num_hash=20):\n",
        "    unique_terms = input_df.select(explode(\"shingles\")).distinct().count()\n",
        "    features_dim = 2 ** math.ceil(math.log2(unique_terms))\n",
        "\n",
        "    tf = HashingTF(inputCol=\"shingles\", outputCol=\"features\", numFeatures=features_dim, binary=True)\n",
        "    vectorized = tf.transform(input_df)\n",
        "\n",
        "    lsh = MinHashLSH(inputCol=\"features\", outputCol=\"hashes\", numHashTables=num_hash)\n",
        "    model = lsh.fit(vectorized)\n",
        "\n",
        "    candidates = model.approxSimilarityJoin(vectorized, vectorized, threshold=threshold, distCol=\"jaccard_dist\")\n",
        "    pairs = (candidates\n",
        "             .filter(col(\"datasetA.Id\") > col(\"datasetB.Id\"))\n",
        "             .withColumn(\"similarity\", 1 - col(\"jaccard_dist\"))\n",
        "             .select(\"similarity\",\n",
        "                     col(\"datasetA.Id\").alias(\"docA\"),\n",
        "                     col(\"datasetB.Id\").alias(\"docB\"),\n",
        "                     col(\"datasetA.review_clean\").alias(\"reviewA\"),\n",
        "                     col(\"datasetB.review_clean\").alias(\"reviewB\"))\n",
        "             .dropDuplicates([\"docA\", \"docB\"]))\n",
        "    return pairs"
      ],
      "metadata": {
        "id": "P_UrAQsjnJYF"
      },
      "id": "P_UrAQsjnJYF",
      "execution_count": 16,
      "outputs": []
    },
    {
      "cell_type": "code",
      "source": [
        "#filtered by sentiment\n",
        "pos_reviews = df.filter(col(\"sentiment\") == \"positive\")\n",
        "neg_reviews = df.filter(col(\"sentiment\") == \"negative\")\n",
        "\n",
        "# similar pairs MinHash LSH\n",
        "pairs_pos = find_similar(pos_reviews, threshold=0.5)\n",
        "pairs_neg = find_similar(neg_reviews, threshold=0.5)\n",
        "\n",
        "# filter (0.8 - 0.95)\n",
        "mod_pos = pairs_pos.filter((col(\"similarity\") >= 0.5) & (col(\"similarity\") <= 0.95))\n",
        "mod_neg = pairs_neg.filter((col(\"similarity\") >= 0.5) & (col(\"similarity\") <= 0.95))\n",
        "\n",
        "# Print summary counts\n",
        "print(f\" Total similar positive pairs: {pairs_pos.count()}\")\n",
        "print(f\" Total similar negative pairs: {pairs_neg.count()}\")\n",
        "print(f\" similar positive pairs (0.5 - 0.95): {mod_pos.count()}\")\n",
        "print(f\" similar negative pairs (0.5 - 0.95): {mod_neg.count()}\")\n",
        "\n",
        "#Show examples of top similar pairs\n",
        "print(\"\\n 5 moderately similar positive pairs:\")\n",
        "mod_pos.orderBy(col(\"similarity\").desc()).show(5, truncate=False)\n",
        "\n",
        "print(\"\\n 5 moderately similar negative pairs:\")\n",
        "mod_neg.orderBy(col(\"similarity\").desc()).show(5, truncate=False)\n",
        "mod_neg.orderBy(col(\"similarity\").desc()).show(5, truncate=False)"
      ],
      "metadata": {
        "colab": {
          "base_uri": "https://localhost:8080/"
        },
        "id": "uCEpdDg63w5M",
        "outputId": "984e286d-38f1-4d9f-d088-a10df1e807c0"
      },
      "id": "uCEpdDg63w5M",
      "execution_count": 17,
      "outputs": [
        {
          "output_type": "stream",
          "name": "stdout",
          "text": [
            " Total similar positive pairs: 3761\n",
            " Total similar negative pairs: 1161\n",
            " similar positive pairs (0.5 - 0.95): 72\n",
            " similar negative pairs (0.5 - 0.95): 13\n",
            "\n",
            " 5 moderately similar positive pairs:\n",
            "+------------------+----------+----------+----------------------------------------------------------------------------------------------------------------------------------------------------------------------------------------------------------------------------------------------------------------------------------------------------------------------------------------------------------------------------------------------------------------------------------------------------------------------------------------------------------------------------------------------------------------------------------------------------------------------------------------------------------------------------------------------------------------------------------------------------------------------------------------------------------------------------------------------------------------------------------------------------------------------------------------------------------------------------------------------------------------------------------------------------------------------------------------------------------------------------------------------------------------------------------------------------------------------------------------------------------------------------------------------------------------------------------------------------------------------------------------------------------------------------------------------------------------------------------------------------------------------------------------------------------------------------------------------------------------------------------------------------------------------------------------------------------------------------------------------------------------------------------------------------+----------------------------------------------------------------------------------------------------------------------------------------------------------------------------------------------------------------------------------------------------------------------------------------------------------------------------------------------------------------------------------------------------------------------------------------------------------------------------------------------------------------------------------------------------------------------------------------------------------------------------------------------------------------------------------------------------------------------------------------------------------------------------------------------------------------------------------------------------------------------------------------------------------------------------------------------------------------------------------------------------------------------------------------------------------------------------------------------------------------------------------------------------------------------------------------------------------------------------------------------------------------------------------------------------------------------------------------------------------------------------------------------------------------------------------------------------------------------------------------------------------------------------------------------------------------------------------------------------------------------------------------------------------------------------------------------------------------------------------------------------------------------------------------------------+\n",
            "|similarity        |docA      |docB      |reviewA                                                                                                                                                                                                                                                                                                                                                                                                                                                                                                                                                                                                                                                                                                                                                                                                                                                                                                                                                                                                                                                                                                                                                                                                                                                                                                                                                                                                                                                                                                                                                                                                                                                                                                                                                                                             |reviewB                                                                                                                                                                                                                                                                                                                                                                                                                                                                                                                                                                                                                                                                                                                                                                                                                                                                                                                                                                                                                                                                                                                                                                                                                                                                                                                                                                                                                                                                                                                                                                                                                                                                                                                                                                                             |\n",
            "+------------------+----------+----------+----------------------------------------------------------------------------------------------------------------------------------------------------------------------------------------------------------------------------------------------------------------------------------------------------------------------------------------------------------------------------------------------------------------------------------------------------------------------------------------------------------------------------------------------------------------------------------------------------------------------------------------------------------------------------------------------------------------------------------------------------------------------------------------------------------------------------------------------------------------------------------------------------------------------------------------------------------------------------------------------------------------------------------------------------------------------------------------------------------------------------------------------------------------------------------------------------------------------------------------------------------------------------------------------------------------------------------------------------------------------------------------------------------------------------------------------------------------------------------------------------------------------------------------------------------------------------------------------------------------------------------------------------------------------------------------------------------------------------------------------------------------------------------------------------+----------------------------------------------------------------------------------------------------------------------------------------------------------------------------------------------------------------------------------------------------------------------------------------------------------------------------------------------------------------------------------------------------------------------------------------------------------------------------------------------------------------------------------------------------------------------------------------------------------------------------------------------------------------------------------------------------------------------------------------------------------------------------------------------------------------------------------------------------------------------------------------------------------------------------------------------------------------------------------------------------------------------------------------------------------------------------------------------------------------------------------------------------------------------------------------------------------------------------------------------------------------------------------------------------------------------------------------------------------------------------------------------------------------------------------------------------------------------------------------------------------------------------------------------------------------------------------------------------------------------------------------------------------------------------------------------------------------------------------------------------------------------------------------------------+\n",
            "|0.9398496240601504|1901768724|1597370045|basil  who up until now was a mediocre painter after meeting dorian gray a young adonis  was inspired to create a masterpiece of which he puts himself into  against basil s wishes  dorian gray is influenced by basil s friend lord henry  dorian looks at his portrait and realizes that while the portrait will stay young forever  he will grow old  so dorian makes a wish that if only he could stay young forever and the portrait can age at first dorian does not realize his wishes been granted  he falls in love with a beautiful young actress who is every woman that shakespeare ever wrote about  but once again due to lord henry s influence  he realizes that she s just a common girl starting with absent minded acts dorian slowly sinks into debauchery  and with every new act his picture becomes more grotesque while dorian stays is young and as innocent looking as the day his picture was painted what will become of dorian what will become of dorian s painting what would you do if you were dorian oscar wilde paints a picture himself as he describes dorian gray s dilemma  and we as readers travel with dorian as each decision is made  in some places in the story oscar wilde seems to drag on and on with detail  however we find that this detail is necessary to set the next scene oscar wilde himself led a risky life that lead to a jail sentence  is attitudes can be seen in the dialogues in this book                                                                                                                                                                                                                                                                                                                                       |basil  who up until now was a mediocre painter after meeting dorian gray a young adonis  was inspired to create a masterpiece of which he puts himself into  against basil s wishes  dorian gray is influenced by basil s friend lord henry  dorian looks at his portrait and realizes that while the portrait will stay young forever  he will grow old  so dorian makes a wish that if only he could stay young forever and the portrait can age at first dorian does not realize his wishes been granted  he falls in love with a beautiful young actress who is every woman that shakespeare ever wrote about  but once again due to lord henry s influence  he realizes that she s just a common girl starting with absent minded acts dorian slowly sinks into debauchery  and with every new act his picture becomes more grotesque while dorian stays is young and as innocent looking as the day his picture was painted what will become of dorian what will become of dorian s painting what would you do if you were dorian oscar wilde paints a picture himself as he describes dorian gray s dilemma  and we as readers travel with dorian as each decision is made  in some places in the story oscar wilde seems to drag on and on with detail  however we find that this detail is necessary to set the next scene oscar wilde himself led a risky life that lead to a jail sentence  is attitudes can be seen in the dialogues in this book the picture of dorian gray starring  george sanders  hurd hatfield                                                                                                                                                                                                                                                                    |\n",
            "|0.9398496240601504|B000N6M7K2|1597370045|basil  who up until now was a mediocre painter after meeting dorian gray a young adonis  was inspired to create a masterpiece of which he puts himself into  against basil s wishes  dorian gray is influenced by basil s friend lord henry  dorian looks at his portrait and realizes that while the portrait will stay young forever  he will grow old  so dorian makes a wish that if only he could stay young forever and the portrait can age at first dorian does not realize his wishes been granted  he falls in love with a beautiful young actress who is every woman that shakespeare ever wrote about  but once again due to lord henry s influence  he realizes that she s just a common girl starting with absent minded acts dorian slowly sinks into debauchery  and with every new act his picture becomes more grotesque while dorian stays is young and as innocent looking as the day his picture was painted what will become of dorian what will become of dorian s painting what would you do if you were dorian oscar wilde paints a picture himself as he describes dorian gray s dilemma  and we as readers travel with dorian as each decision is made  in some places in the story oscar wilde seems to drag on and on with detail  however we find that this detail is necessary to set the next scene oscar wilde himself led a risky life that lead to a jail sentence  is attitudes can be seen in the dialogues in this book                                                                                                                                                                                                                                                                                                                                       |basil  who up until now was a mediocre painter after meeting dorian gray a young adonis  was inspired to create a masterpiece of which he puts himself into  against basil s wishes  dorian gray is influenced by basil s friend lord henry  dorian looks at his portrait and realizes that while the portrait will stay young forever  he will grow old  so dorian makes a wish that if only he could stay young forever and the portrait can age at first dorian does not realize his wishes been granted  he falls in love with a beautiful young actress who is every woman that shakespeare ever wrote about  but once again due to lord henry s influence  he realizes that she s just a common girl starting with absent minded acts dorian slowly sinks into debauchery  and with every new act his picture becomes more grotesque while dorian stays is young and as innocent looking as the day his picture was painted what will become of dorian what will become of dorian s painting what would you do if you were dorian oscar wilde paints a picture himself as he describes dorian gray s dilemma  and we as readers travel with dorian as each decision is made  in some places in the story oscar wilde seems to drag on and on with detail  however we find that this detail is necessary to set the next scene oscar wilde himself led a risky life that lead to a jail sentence  is attitudes can be seen in the dialogues in this book the picture of dorian gray starring  george sanders  hurd hatfield                                                                                                                                                                                                                                                                    |\n",
            "|0.9361702127659575|B000NDSX6C|B000GQG7D2|bilbo baggins the hobbit was just about to have his tea one wednesday when his doorbell suddenly rang  he instantly remembered that gandalf the wizard was going to have tea with him that day  to his great surprise  thirteen dwarves in addition to gandalf ended up at his table that afternoon  thorin and co  as the dwarves called themselves  were in need of a fourteenth member of their group to assist them on their quest to get back gold and other riches the dragon smaug had stolen from them  bilbo obliged and accompanied the band of dwarves on their rescue mission  on many occasions during his journey  bilbo wished that he were back home  but once his duty was complete  bilbo never regretted going with the dwarves with an unexpected ending and great descriptions  i would undoubtedly recommend this book  despite a slow and boring beginning  i thoroughly enjoyed reading the hobbit  i really liked how this plot was so unpredictable  thorin and co s journey took so many enexpected turns that it kept me on my toes and really into the book                                                                                                                                                                                                                                                                                                                                                                                                                                                                                                                                                                                                                                                                                                            |bilbo baggins the hobbit was just about to have his tea one wednesday when his doorbell suddenly rang  he instantly remembered that gandalf the wizard was going to have tea with him that day  to his great surprize  thirteen dwarves in addition to gandalf ended up at his table that afternoon  thorin and co  as the dwarves called themselves  were in need of a fourteenth member of their group to assist them on their quest to get back gold and other riches the dragon smaug had stolen from them  bilbo obliged and accompanied the band of dwarves on their rescue mission  on many occasions during his journey  bilbo wished that he were back home  but once his duty was complete  bilbo never regretted going with the dwarves with an unexpected ending and great descriptions  i would undoubtedly recommend this book  despite a slow and boring beginning  i thoroughly enjoyed reading the hobbit  i really liked how this plot was so unpredictable  thorin and co s journey took so many enexpected turns that it kept me on my toes and really into the book                                                                                                                                                                                                                                                                                                                                                                                                                                                                                                                                                                                                                                                                                                            |\n",
            "|0.9259259259259259|B000Q03CZY|B000G1JYHI|the lion the witch and the wordrobei am writing about the lion the witch and the wordrobe  the story is about 4 kids named lucy  peter  susan and edmond  they all get sent away because of the war that s happening in there home town  so then they get sent away and they have to stay with a professor  a couple of days later lucy found a wordrobe in an empty room  when she saw it she went inside and found a the theme of this book is survival  peter  susan  edmond  and lucy are trying really hard not to get captured by the white witch  in a part of this story asland is sacrificing himself for edmond  during the war peter and his army is fighting the white witches army the characters in the lion the witch and the wordrobe are easy to relate to  the characters are easy to relate to because edmond doesn t really fit in anywhere  every time susan is trying really hard to be smart  peter just wants stuff to happen and let it be over with  lucy is the one who cares about anything either it s a person or an animal and she would never lie about anything the settings of this book are places that would take you everywhere  one of the settings is the white witches castle  another one is the professor s house  the beaver s house and mr  tumbnas s house was also a setting in the book  the biggest setting of all is narnia overall i recommend that this book can be read by anyone who loves reading  everyone should read this book because it s the best book ever  when the author describes the characters it feels like you already know them  the most exciting parts are the settings because the author describes it like you are already there  i also recommend that if you like adventure books then you would really enjoy this book |the lion the witch and the wordrobei am writing about the lion the witch and the wordrobe  the story is about 4 kids named lucy  peter  susan and edmond  they all get sent away because of the war that s happening in there home town  so then they get sent away and they have to stay with a professor  a couple of days later lucy found a wordrobe in an empty room  when she saw it she went inside and found a edmond  and lucy are trying really hard not to get captured bythe theme of this book is survival  peter  susan  the white witch  in a part of this story asland is sacrificing himself for edmond  during the war peter and his army is fighting the white witches army the characters in the lion the witch and the wordrobe are easy to relate to  the characters are easy to relate to because edmond doesn t really fit in anywhere  every time susan is trying really hard to be smart  peter just wants stuff to happen and let it be over with  lucy is the one who cares about anything either it s a person or an animal and she would never lie about anything the settings of this book are places that would take you everywhere  one of the settings is the white witches castle  another one is the professor s house  the beaver s house and mr  tumbnas s house was also a setting in the book  the biggest setting of all is narnia overall i recommend that this book can be read by anyone who loves reading  everyone should read this book because it s the best book ever  when the author describes the characters it feels like you already know them  the most exciting parts are the settings because the author describes it like you are already there  i also recommend that if you like adventure books then you would really enjoy this book  |\n",
            "|0.9259259259259259|B000Q382GK|B000KAIZX4|the lion the witch and the wordrobei am writing about the lion the witch and the wordrobe  the story is about 4 kids named lucy  peter  susan and edmond  they all get sent away because of the war that s happening in there home town  so then they get sent away and they have to stay with a professor  a couple of days later lucy found a wordrobe in an empty room  when she saw it she went inside and found a edmond  and lucy are trying really hard not to get captured bythe theme of this book is survival  peter  susan  the white witch  in a part of this story asland is sacrificing himself for edmond  during the war peter and his army is fighting the white witches army the characters in the lion the witch and the wordrobe are easy to relate to  the characters are easy to relate to because edmond doesn t really fit in anywhere  every time susan is trying really hard to be smart  peter just wants stuff to happen and let it be over with  lucy is the one who cares about anything either it s a person or an animal and she would never lie about anything the settings of this book are places that would take you everywhere  one of the settings is the white witches castle  another one is the professor s house  the beaver s house and mr  tumbnas s house was also a setting in the book  the biggest setting of all is narnia overall i recommend that this book can be read by anyone who loves reading  everyone should read this book because it s the best book ever  when the author describes the characters it feels like you already know them  the most exciting parts are the settings because the author describes it like you are already there  i also recommend that if you like adventure books then you would really enjoy this book  |the lion the witch and the wordrobei am writing about the lion the witch and the wordrobe  the story is about 4 kids named lucy  peter  susan and edmond  they all get sent away because of the war that s happening in there home town  so then they get sent away and they have to stay with a professor  a couple of days later lucy found a wordrobe in an empty room  when she saw it she went inside and found a the theme of this book is survival  peter  susan  edmond  and lucy are trying really hard not to get captured by the white witch  in a part of this story asland is sacrificing himself for edmond  during the war peter and his army is fighting the white witches army the characters in the lion the witch and the wordrobe are easy to relate to  the characters are easy to relate to because edmond doesn t really fit in anywhere  every time susan is trying really hard to be smart  peter just wants stuff to happen and let it be over with  lucy is the one who cares about anything either it s a person or an animal and she would never lie about anything the settings of this book are places that would take you everywhere  one of the settings is the white witches castle  another one is the professor s house  the beaver s house and mr  tumbnas s house was also a setting in the book  the biggest setting of all is narnia overall i recommend that this book can be read by anyone who loves reading  everyone should read this book because it s the best book ever  when the author describes the characters it feels like you already know them  the most exciting parts are the settings because the author describes it like you are already there  i also recommend that if you like adventure books then you would really enjoy this book |\n",
            "+------------------+----------+----------+----------------------------------------------------------------------------------------------------------------------------------------------------------------------------------------------------------------------------------------------------------------------------------------------------------------------------------------------------------------------------------------------------------------------------------------------------------------------------------------------------------------------------------------------------------------------------------------------------------------------------------------------------------------------------------------------------------------------------------------------------------------------------------------------------------------------------------------------------------------------------------------------------------------------------------------------------------------------------------------------------------------------------------------------------------------------------------------------------------------------------------------------------------------------------------------------------------------------------------------------------------------------------------------------------------------------------------------------------------------------------------------------------------------------------------------------------------------------------------------------------------------------------------------------------------------------------------------------------------------------------------------------------------------------------------------------------------------------------------------------------------------------------------------------------+----------------------------------------------------------------------------------------------------------------------------------------------------------------------------------------------------------------------------------------------------------------------------------------------------------------------------------------------------------------------------------------------------------------------------------------------------------------------------------------------------------------------------------------------------------------------------------------------------------------------------------------------------------------------------------------------------------------------------------------------------------------------------------------------------------------------------------------------------------------------------------------------------------------------------------------------------------------------------------------------------------------------------------------------------------------------------------------------------------------------------------------------------------------------------------------------------------------------------------------------------------------------------------------------------------------------------------------------------------------------------------------------------------------------------------------------------------------------------------------------------------------------------------------------------------------------------------------------------------------------------------------------------------------------------------------------------------------------------------------------------------------------------------------------------+\n",
            "only showing top 5 rows\n",
            "\n",
            "\n",
            " 5 moderately similar negative pairs:\n",
            "+------------------+----------+----------+------------------------------------------------------------------------------------------------------------------------------------------------------------------------------------------------------------------------------------------------------------------------------------------------------------------------------------------------------------------------------------------------------------------------------------------------------------------------------------------------------------------------------------------------------------------------------------------------------------------------------------------------------------------------------------------------------------------------------------------------------------------------------------------------------------------------------------------------------------------------------------------------------------------------------------------------------------------------------+------------------------------------------------------------------------------------------------------------------------------------------------------------------------------------------------------------------------------------------------------------------------------------------------------------------------------------------------------------------------------------------------------------------------------------------------------------------------------------------------------------------------------------------------------------------------------------------------------------------------------------------------------------------------------------------------------------------------------------------------------------------------------------------------------------------------------------------------------------------------------------------------------------------------------------------------------------+\n",
            "|similarity        |docA      |docB      |reviewA                                                                                                                                                                                                                                                                                                                                                                                                                                                                                                                                                                                                                                                                                                                                                                                                                                                                                                                                                                       |reviewB                                                                                                                                                                                                                                                                                                                                                                                                                                                                                                                                                                                                                                                                                                                                                                                                                                                                                                                                                     |\n",
            "+------------------+----------+----------+------------------------------------------------------------------------------------------------------------------------------------------------------------------------------------------------------------------------------------------------------------------------------------------------------------------------------------------------------------------------------------------------------------------------------------------------------------------------------------------------------------------------------------------------------------------------------------------------------------------------------------------------------------------------------------------------------------------------------------------------------------------------------------------------------------------------------------------------------------------------------------------------------------------------------------------------------------------------------+------------------------------------------------------------------------------------------------------------------------------------------------------------------------------------------------------------------------------------------------------------------------------------------------------------------------------------------------------------------------------------------------------------------------------------------------------------------------------------------------------------------------------------------------------------------------------------------------------------------------------------------------------------------------------------------------------------------------------------------------------------------------------------------------------------------------------------------------------------------------------------------------------------------------------------------------------------+\n",
            "|0.9397590361445783|0451519582|0395051029|if you don t know anything about emily bronte or you don t like her style of literature  then i would warn you to stay away from this and look up one of the many other classics like  picture of dorian gray  or  frankenstein  here s why confusing   several characters all share the same similar names which sometimes makes it confusing unsympathetic characters   i felt that heathcliff was such a total jerk that he didn t deserve any sympathy whatsoever  so that made it hard for me to sympathize with the woman who loved him  which in turn forced me to reject the concept of this being a love story  even the most vile villans of all time usually exhibit one small redeeming quality  i felt that healthcliff didn t and thus i didn t care what happened to him or his love interest boring   nothing good happens if you like emily bronte nothing i say here will change your mind  but if you don t or are reluctant  then stay away from this one |if you don t know anything about emily bronte or you don t like her style of literature  then i would warn you to stay away from this and look up one of the many other classics like  picture of dorian gray  here s why confusing   several characters all share the same similar names which sometimes makes it confusing unsympathetic characters   i felt that heathcliff was such a total jerk that he didn t deserve any sympathy whatsoever  so that made it hard for me to sympathize with the woman who loved him  which in turn forced me to reject the concept of this being a love story  even the most vile villans of all time usually exhibit one small redeeming quality  i felt that healthcliff didn t and thus i didn t care what happened to him or his love interest boring   nothing good happens if you like emily bronte nothing i say here will change your mind  but if you don t or are reluctant  then stay away from this one |\n",
            "|0.9397590361445783|0451519582|0435126083|if you don t know anything about emily bronte or you don t like her style of literature  then i would warn you to stay away from this and look up one of the many other classics like  picture of dorian gray  or  frankenstein  here s why confusing   several characters all share the same similar names which sometimes makes it confusing unsympathetic characters   i felt that heathcliff was such a total jerk that he didn t deserve any sympathy whatsoever  so that made it hard for me to sympathize with the woman who loved him  which in turn forced me to reject the concept of this being a love story  even the most vile villans of all time usually exhibit one small redeeming quality  i felt that healthcliff didn t and thus i didn t care what happened to him or his love interest boring   nothing good happens if you like emily bronte nothing i say here will change your mind  but if you don t or are reluctant  then stay away from this one |if you don t know anything about emily bronte or you don t like her style of literature  then i would warn you to stay away from this and look up one of the many other classics like  picture of dorian gray  here s why confusing   several characters all share the same similar names which sometimes makes it confusing unsympathetic characters   i felt that heathcliff was such a total jerk that he didn t deserve any sympathy whatsoever  so that made it hard for me to sympathize with the woman who loved him  which in turn forced me to reject the concept of this being a love story  even the most vile villans of all time usually exhibit one small redeeming quality  i felt that healthcliff didn t and thus i didn t care what happened to him or his love interest boring   nothing good happens if you like emily bronte nothing i say here will change your mind  but if you don t or are reluctant  then stay away from this one |\n",
            "|0.9397590361445783|1582790337|0435126083|if you don t know anything about emily bronte or you don t like her style of literature  then i would warn you to stay away from this and look up one of the many other classics like  picture of dorian gray  or  frankenstein  here s why confusing   several characters all share the same similar names which sometimes makes it confusing unsympathetic characters   i felt that heathcliff was such a total jerk that he didn t deserve any sympathy whatsoever  so that made it hard for me to sympathize with the woman who loved him  which in turn forced me to reject the concept of this being a love story  even the most vile villans of all time usually exhibit one small redeeming quality  i felt that healthcliff didn t and thus i didn t care what happened to him or his love interest boring   nothing good happens if you like emily bronte nothing i say here will change your mind  but if you don t or are reluctant  then stay away from this one |if you don t know anything about emily bronte or you don t like her style of literature  then i would warn you to stay away from this and look up one of the many other classics like  picture of dorian gray  here s why confusing   several characters all share the same similar names which sometimes makes it confusing unsympathetic characters   i felt that heathcliff was such a total jerk that he didn t deserve any sympathy whatsoever  so that made it hard for me to sympathize with the woman who loved him  which in turn forced me to reject the concept of this being a love story  even the most vile villans of all time usually exhibit one small redeeming quality  i felt that healthcliff didn t and thus i didn t care what happened to him or his love interest boring   nothing good happens if you like emily bronte nothing i say here will change your mind  but if you don t or are reluctant  then stay away from this one |\n",
            "|0.8356164383561644|0736641238|0075543893|an adorable book that may seem long at times the story is about a family with four daughters meg jo beth and amy  the book opens when the father is away at war  it is christmas time and the girls and their mother  whom they call marmee  haven t much to live on but love  this book is a diaryof their lives  until three of them get married and have babiesof their own the book ends with them all attending a birthday party  and eachrealizing that they couldn t be happier for they all have whatthey always dreamed of as i said before  this book is overlong at places  iprefer to watch my soap operas on tv  and some of the words were british  and i never did find out what they meant  other than those faults  it was a grand book  and i give it a rating of 3 5 stars                                                                                                                                                                                 |an adorable book that may seem long at times the story is about a family with four daughters meg jo beth and amy  the book opens when the father is away at war  it is christmas time and the girls and their mother  whom they call marmee  haven t much to live on but love  this book is a recounting of their lives  until three of them get married and have babies of their own the book ends with them all attending a birthday party  and eachrealizing that they couldn t be happier for they all have whatthey always dreamed of as i said before  this book is overlong at places  iprefer to watch my soap operas on tv  and some of the words were british  and i never did find out what they meant  other than those faults  it was a grand book  and i give it a rating of 3 5 stars                                                                                                                                                        |\n",
            "|0.8356164383561644|B0007EGQ52|0075543893|an adorable book that may seem long at times the story is about a family with four daughters meg jo beth and amy  the book opens when the father is away at war  it is christmas time and the girls and their mother  whom they call marmee  haven t much to live on but love  this book is a diaryof their lives  until three of them get married and have babiesof their own the book ends with them all attending a birthday party  and eachrealizing that they couldn t be happier for they all have whatthey always dreamed of as i said before  this book is overlong at places  iprefer to watch my soap operas on tv  and some of the words were british  and i never did find out what they meant  other than those faults  it was a grand book  and i give it a rating of 3 5 stars                                                                                                                                                                                 |an adorable book that may seem long at times the story is about a family with four daughters meg jo beth and amy  the book opens when the father is away at war  it is christmas time and the girls and their mother  whom they call marmee  haven t much to live on but love  this book is a recounting of their lives  until three of them get married and have babies of their own the book ends with them all attending a birthday party  and eachrealizing that they couldn t be happier for they all have whatthey always dreamed of as i said before  this book is overlong at places  iprefer to watch my soap operas on tv  and some of the words were british  and i never did find out what they meant  other than those faults  it was a grand book  and i give it a rating of 3 5 stars                                                                                                                                                        |\n",
            "+------------------+----------+----------+------------------------------------------------------------------------------------------------------------------------------------------------------------------------------------------------------------------------------------------------------------------------------------------------------------------------------------------------------------------------------------------------------------------------------------------------------------------------------------------------------------------------------------------------------------------------------------------------------------------------------------------------------------------------------------------------------------------------------------------------------------------------------------------------------------------------------------------------------------------------------------------------------------------------------------------------------------------------------+------------------------------------------------------------------------------------------------------------------------------------------------------------------------------------------------------------------------------------------------------------------------------------------------------------------------------------------------------------------------------------------------------------------------------------------------------------------------------------------------------------------------------------------------------------------------------------------------------------------------------------------------------------------------------------------------------------------------------------------------------------------------------------------------------------------------------------------------------------------------------------------------------------------------------------------------------------+\n",
            "only showing top 5 rows\n",
            "\n",
            "+------------------+----------+----------+------------------------------------------------------------------------------------------------------------------------------------------------------------------------------------------------------------------------------------------------------------------------------------------------------------------------------------------------------------------------------------------------------------------------------------------------------------------------------------------------------------------------------------------------------------------------------------------------------------------------------------------------------------------------------------------------------------------------------------------------------------------------------------------------------------------------------------------------------------------------------------------------------------------------------------------------------------------------------+------------------------------------------------------------------------------------------------------------------------------------------------------------------------------------------------------------------------------------------------------------------------------------------------------------------------------------------------------------------------------------------------------------------------------------------------------------------------------------------------------------------------------------------------------------------------------------------------------------------------------------------------------------------------------------------------------------------------------------------------------------------------------------------------------------------------------------------------------------------------------------------------------------------------------------------------------------+\n",
            "|similarity        |docA      |docB      |reviewA                                                                                                                                                                                                                                                                                                                                                                                                                                                                                                                                                                                                                                                                                                                                                                                                                                                                                                                                                                       |reviewB                                                                                                                                                                                                                                                                                                                                                                                                                                                                                                                                                                                                                                                                                                                                                                                                                                                                                                                                                     |\n",
            "+------------------+----------+----------+------------------------------------------------------------------------------------------------------------------------------------------------------------------------------------------------------------------------------------------------------------------------------------------------------------------------------------------------------------------------------------------------------------------------------------------------------------------------------------------------------------------------------------------------------------------------------------------------------------------------------------------------------------------------------------------------------------------------------------------------------------------------------------------------------------------------------------------------------------------------------------------------------------------------------------------------------------------------------+------------------------------------------------------------------------------------------------------------------------------------------------------------------------------------------------------------------------------------------------------------------------------------------------------------------------------------------------------------------------------------------------------------------------------------------------------------------------------------------------------------------------------------------------------------------------------------------------------------------------------------------------------------------------------------------------------------------------------------------------------------------------------------------------------------------------------------------------------------------------------------------------------------------------------------------------------------+\n",
            "|0.9397590361445783|0451519582|0395051029|if you don t know anything about emily bronte or you don t like her style of literature  then i would warn you to stay away from this and look up one of the many other classics like  picture of dorian gray  or  frankenstein  here s why confusing   several characters all share the same similar names which sometimes makes it confusing unsympathetic characters   i felt that heathcliff was such a total jerk that he didn t deserve any sympathy whatsoever  so that made it hard for me to sympathize with the woman who loved him  which in turn forced me to reject the concept of this being a love story  even the most vile villans of all time usually exhibit one small redeeming quality  i felt that healthcliff didn t and thus i didn t care what happened to him or his love interest boring   nothing good happens if you like emily bronte nothing i say here will change your mind  but if you don t or are reluctant  then stay away from this one |if you don t know anything about emily bronte or you don t like her style of literature  then i would warn you to stay away from this and look up one of the many other classics like  picture of dorian gray  here s why confusing   several characters all share the same similar names which sometimes makes it confusing unsympathetic characters   i felt that heathcliff was such a total jerk that he didn t deserve any sympathy whatsoever  so that made it hard for me to sympathize with the woman who loved him  which in turn forced me to reject the concept of this being a love story  even the most vile villans of all time usually exhibit one small redeeming quality  i felt that healthcliff didn t and thus i didn t care what happened to him or his love interest boring   nothing good happens if you like emily bronte nothing i say here will change your mind  but if you don t or are reluctant  then stay away from this one |\n",
            "|0.9397590361445783|0451519582|0435126083|if you don t know anything about emily bronte or you don t like her style of literature  then i would warn you to stay away from this and look up one of the many other classics like  picture of dorian gray  or  frankenstein  here s why confusing   several characters all share the same similar names which sometimes makes it confusing unsympathetic characters   i felt that heathcliff was such a total jerk that he didn t deserve any sympathy whatsoever  so that made it hard for me to sympathize with the woman who loved him  which in turn forced me to reject the concept of this being a love story  even the most vile villans of all time usually exhibit one small redeeming quality  i felt that healthcliff didn t and thus i didn t care what happened to him or his love interest boring   nothing good happens if you like emily bronte nothing i say here will change your mind  but if you don t or are reluctant  then stay away from this one |if you don t know anything about emily bronte or you don t like her style of literature  then i would warn you to stay away from this and look up one of the many other classics like  picture of dorian gray  here s why confusing   several characters all share the same similar names which sometimes makes it confusing unsympathetic characters   i felt that heathcliff was such a total jerk that he didn t deserve any sympathy whatsoever  so that made it hard for me to sympathize with the woman who loved him  which in turn forced me to reject the concept of this being a love story  even the most vile villans of all time usually exhibit one small redeeming quality  i felt that healthcliff didn t and thus i didn t care what happened to him or his love interest boring   nothing good happens if you like emily bronte nothing i say here will change your mind  but if you don t or are reluctant  then stay away from this one |\n",
            "|0.9397590361445783|1582790337|0435126083|if you don t know anything about emily bronte or you don t like her style of literature  then i would warn you to stay away from this and look up one of the many other classics like  picture of dorian gray  or  frankenstein  here s why confusing   several characters all share the same similar names which sometimes makes it confusing unsympathetic characters   i felt that heathcliff was such a total jerk that he didn t deserve any sympathy whatsoever  so that made it hard for me to sympathize with the woman who loved him  which in turn forced me to reject the concept of this being a love story  even the most vile villans of all time usually exhibit one small redeeming quality  i felt that healthcliff didn t and thus i didn t care what happened to him or his love interest boring   nothing good happens if you like emily bronte nothing i say here will change your mind  but if you don t or are reluctant  then stay away from this one |if you don t know anything about emily bronte or you don t like her style of literature  then i would warn you to stay away from this and look up one of the many other classics like  picture of dorian gray  here s why confusing   several characters all share the same similar names which sometimes makes it confusing unsympathetic characters   i felt that heathcliff was such a total jerk that he didn t deserve any sympathy whatsoever  so that made it hard for me to sympathize with the woman who loved him  which in turn forced me to reject the concept of this being a love story  even the most vile villans of all time usually exhibit one small redeeming quality  i felt that healthcliff didn t and thus i didn t care what happened to him or his love interest boring   nothing good happens if you like emily bronte nothing i say here will change your mind  but if you don t or are reluctant  then stay away from this one |\n",
            "|0.8356164383561644|0736641238|0075543893|an adorable book that may seem long at times the story is about a family with four daughters meg jo beth and amy  the book opens when the father is away at war  it is christmas time and the girls and their mother  whom they call marmee  haven t much to live on but love  this book is a diaryof their lives  until three of them get married and have babiesof their own the book ends with them all attending a birthday party  and eachrealizing that they couldn t be happier for they all have whatthey always dreamed of as i said before  this book is overlong at places  iprefer to watch my soap operas on tv  and some of the words were british  and i never did find out what they meant  other than those faults  it was a grand book  and i give it a rating of 3 5 stars                                                                                                                                                                                 |an adorable book that may seem long at times the story is about a family with four daughters meg jo beth and amy  the book opens when the father is away at war  it is christmas time and the girls and their mother  whom they call marmee  haven t much to live on but love  this book is a recounting of their lives  until three of them get married and have babies of their own the book ends with them all attending a birthday party  and eachrealizing that they couldn t be happier for they all have whatthey always dreamed of as i said before  this book is overlong at places  iprefer to watch my soap operas on tv  and some of the words were british  and i never did find out what they meant  other than those faults  it was a grand book  and i give it a rating of 3 5 stars                                                                                                                                                        |\n",
            "|0.8356164383561644|B0007EGQ52|0075543893|an adorable book that may seem long at times the story is about a family with four daughters meg jo beth and amy  the book opens when the father is away at war  it is christmas time and the girls and their mother  whom they call marmee  haven t much to live on but love  this book is a diaryof their lives  until three of them get married and have babiesof their own the book ends with them all attending a birthday party  and eachrealizing that they couldn t be happier for they all have whatthey always dreamed of as i said before  this book is overlong at places  iprefer to watch my soap operas on tv  and some of the words were british  and i never did find out what they meant  other than those faults  it was a grand book  and i give it a rating of 3 5 stars                                                                                                                                                                                 |an adorable book that may seem long at times the story is about a family with four daughters meg jo beth and amy  the book opens when the father is away at war  it is christmas time and the girls and their mother  whom they call marmee  haven t much to live on but love  this book is a recounting of their lives  until three of them get married and have babies of their own the book ends with them all attending a birthday party  and eachrealizing that they couldn t be happier for they all have whatthey always dreamed of as i said before  this book is overlong at places  iprefer to watch my soap operas on tv  and some of the words were british  and i never did find out what they meant  other than those faults  it was a grand book  and i give it a rating of 3 5 stars                                                                                                                                                        |\n",
            "+------------------+----------+----------+------------------------------------------------------------------------------------------------------------------------------------------------------------------------------------------------------------------------------------------------------------------------------------------------------------------------------------------------------------------------------------------------------------------------------------------------------------------------------------------------------------------------------------------------------------------------------------------------------------------------------------------------------------------------------------------------------------------------------------------------------------------------------------------------------------------------------------------------------------------------------------------------------------------------------------------------------------------------------+------------------------------------------------------------------------------------------------------------------------------------------------------------------------------------------------------------------------------------------------------------------------------------------------------------------------------------------------------------------------------------------------------------------------------------------------------------------------------------------------------------------------------------------------------------------------------------------------------------------------------------------------------------------------------------------------------------------------------------------------------------------------------------------------------------------------------------------------------------------------------------------------------------------------------------------------------------+\n",
            "only showing top 5 rows\n",
            "\n"
          ]
        }
      ]
    }
  ],
  "metadata": {
    "kernelspec": {
      "display_name": "Python 3 (ipykernel)",
      "language": "python",
      "name": "python3"
    },
    "language_info": {
      "codemirror_mode": {
        "name": "ipython",
        "version": 3
      },
      "file_extension": ".py",
      "mimetype": "text/x-python",
      "name": "python",
      "nbconvert_exporter": "python",
      "pygments_lexer": "ipython3",
      "version": "3.9.0"
    },
    "colab": {
      "provenance": [],
      "include_colab_link": true
    }
  },
  "nbformat": 4,
  "nbformat_minor": 5
}